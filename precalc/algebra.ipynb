{
 "metadata": {
  "language": "Julia",
  "name": "",
  "signature": "sha256:3cb953bd5e62bd80aace053baf537b7b3f2e29bc3cb5880bc5bc5751a4066f5f"
 },
 "nbformat": 3,
 "nbformat_minor": 0,
 "worksheets": [
  {
   "cells": [
    {
     "cell_type": "markdown",
     "metadata": {},
     "source": [
      "<h1>Algebraic expressions</h1>"
     ]
    },
    {
     "cell_type": "markdown",
     "metadata": {},
     "source": [
      "<p>Mathematically, we draw a distinction between an expression, such as $x^2 + y^2$ and an equation $x^2 + y^2 = 1$. Expressions lend themselves to algebraic manipulations, which are useful when dealing with equations. A typical task related to an equation is to find <em>all</em> solutions, which in the example would be all pairs $(x,y)$ such that $x^2 + y^2 = 1$.</p>"
     ]
    },
    {
     "cell_type": "markdown",
     "metadata": {},
     "source": [
      "<p>Working with expressions is not built in to <code>Julia</code>, a language for numeric computing. However, the add-on package <code>SymPy.jl</code> provides an interface to <code>Python</code>'s <code>SymPy</code> package which provides a computer algebra system (CAS). Using a CAS can be complicated, but we will see here how some basic algebraic tasks can be done quite naturally.</p>"
     ]
    },
    {
     "cell_type": "markdown",
     "metadata": {},
     "source": [
      "<p>To begin, <code>SymPy</code> is an add-on package and must be installed. As it relies on external libraries, installation can be a bit tricky. However, all the additional libraries are provided in a single download called Anaconda Python [reference].</p>"
     ]
    },
    {
     "cell_type": "code",
     "collapsed": false,
     "input": [
      "using SymPy"
     ],
     "language": "python",
     "metadata": {},
     "outputs": [
      {
       "output_type": "stream",
       "stream": "stderr",
       "text": [
        "Warning: imported binding for transpose overwritten in module __anon__\n"
       ]
      }
     ],
     "prompt_number": 1
    },
    {
     "cell_type": "markdown",
     "metadata": {},
     "source": [
      "<h2>Symbolic variables</h2>"
     ]
    },
    {
     "cell_type": "markdown",
     "metadata": {},
     "source": [
      "<p>A variable in <code>Julia</code> is a name given to a location of memory. (???) These are often numbers, but may be more complicated objects. In <code>SymPy</code> we make variables to refer to symbolic objects. The <code>symbols</code> function is used for this:</p>"
     ]
    },
    {
     "cell_type": "code",
     "collapsed": false,
     "input": [
      "x, y = symbols(\"x y\", real=true)"
     ],
     "language": "python",
     "metadata": {},
     "outputs": [
      {
       "metadata": {},
       "output_type": "pyout",
       "prompt_number": 2,
       "text": [
        "(x,y)"
       ]
      }
     ],
     "prompt_number": 2
    },
    {
     "cell_type": "markdown",
     "metadata": {},
     "source": [
      "<p>We created two variables, <code>x</code> and <code>y</code>, which are symbolic above. We also told <code>SymPy</code> to assume they are Real values, as <code>SymPy</code> will otherwise assume they are complex.</p>"
     ]
    },
    {
     "cell_type": "markdown",
     "metadata": {},
     "source": [
      "<p>We can then create symbolic expressions:</p>"
     ]
    },
    {
     "cell_type": "code",
     "collapsed": false,
     "input": [
      "x^2 + y^2"
     ],
     "language": "python",
     "metadata": {},
     "outputs": [
      {
       "latex": [
        "$$x^{2} + y^{2}$$"
       ],
       "metadata": {},
       "output_type": "pyout",
       "prompt_number": 3,
       "text": [
        " 2    2\n",
        "x  + y "
       ]
      }
     ],
     "prompt_number": 3
    },
    {
     "cell_type": "markdown",
     "metadata": {},
     "source": [
      "<p>Or more:</p>"
     ]
    },
    {
     "cell_type": "code",
     "collapsed": false,
     "input": [
      "x^2 + 2x + 1 - (x+1)^2"
     ],
     "language": "python",
     "metadata": {},
     "outputs": [
      {
       "latex": [
        "$$x^{2} + 2 x - \\left(x + 1\\right)^{2} + 1$$"
       ],
       "metadata": {},
       "output_type": "pyout",
       "prompt_number": 4,
       "text": [
        " 2                2    \n",
        "x  + 2*x - (x + 1)  + 1"
       ]
      }
     ],
     "prompt_number": 4
    },
    {
     "cell_type": "markdown",
     "metadata": {},
     "source": [
      "<p>The last expressions can be simplified, but <code>SymPy</code> chooses not to by default. We need to ask. Asking is done by calling <code>simplify</code> on the output:</p>"
     ]
    },
    {
     "cell_type": "code",
     "collapsed": false,
     "input": [
      "simplify(x^2 + 2x + 1 - (x+1)^2)"
     ],
     "language": "python",
     "metadata": {},
     "outputs": [
      {
       "latex": [
        "$$0$$"
       ],
       "metadata": {},
       "output_type": "pyout",
       "prompt_number": 5,
       "text": [
        "0"
       ]
      }
     ],
     "prompt_number": 5
    },
    {
     "cell_type": "markdown",
     "metadata": {},
     "source": [
      "<p>So that is $0$.</p>"
     ]
    },
    {
     "cell_type": "markdown",
     "metadata": {},
     "source": [
      "<p>Some expressions are automatically simplified, such as</p>"
     ]
    },
    {
     "cell_type": "code",
     "collapsed": false,
     "input": [
      "sqrt(x^2)"
     ],
     "language": "python",
     "metadata": {},
     "outputs": [
      {
       "latex": [
        "$$\\left\\lvert{x}\\right\\rvert$$"
       ],
       "metadata": {},
       "output_type": "pyout",
       "prompt_number": 6,
       "text": [
        "|x|"
       ]
      }
     ],
     "prompt_number": 6
    },
    {
     "cell_type": "markdown",
     "metadata": {},
     "source": [
      "<p>Note that the absolute value is indeed the correct answer, whereas this simplification is a bit aggressive:</p>"
     ]
    },
    {
     "cell_type": "code",
     "collapsed": false,
     "input": [
      "(sqrt(x))^2"
     ],
     "language": "python",
     "metadata": {},
     "outputs": [
      {
       "latex": [
        "$$x$$"
       ],
       "metadata": {},
       "output_type": "pyout",
       "prompt_number": 7,
       "text": [
        "x"
       ]
      }
     ],
     "prompt_number": 7
    },
    {
     "cell_type": "markdown",
     "metadata": {},
     "source": [
      "<p>As the answer only holds over the real numbers for $x \\geq 0$.</p>"
     ]
    },
    {
     "cell_type": "markdown",
     "metadata": {},
     "source": [
      "<h2>Factoring</h2>"
     ]
    },
    {
     "cell_type": "markdown",
     "metadata": {},
     "source": [
      "<p>Factoring an expression is to re-express the value as a product of terms. For example, we can write $x + x^2$ or $x(1+x)$, as they basically the same expression, but the latter is written as a product, the former as  a sum. Factoring is useful when solving equations, as the fact that two terms multiply to be 0 only if one or both are zero can be used. In <code>SymPy</code> the <code>factor</code> function does the work, as best it can:</p>"
     ]
    },
    {
     "cell_type": "code",
     "collapsed": false,
     "input": [
      "factor(x^2 + 2x + 1)"
     ],
     "language": "python",
     "metadata": {},
     "outputs": [
      {
       "latex": [
        "$$\\left(x + 1\\right)^{2}$$"
       ],
       "metadata": {},
       "output_type": "pyout",
       "prompt_number": 8,
       "text": [
        "       2\n",
        "(x + 1) "
       ]
      }
     ],
     "prompt_number": 8
    },
    {
     "cell_type": "markdown",
     "metadata": {},
     "source": [
      "<p>or</p>"
     ]
    },
    {
     "cell_type": "code",
     "collapsed": false,
     "input": [
      "factor(5x^3*y^2 + 6x^2*y^3)"
     ],
     "language": "python",
     "metadata": {},
     "outputs": [
      {
       "latex": [
        "$$x^{2} y^{2} \\left(5 x + 6 y\\right)$$"
       ],
       "metadata": {},
       "output_type": "pyout",
       "prompt_number": 9,
       "text": [
        " 2  2            \n",
        "x *y *(5*x + 6*y)"
       ]
      }
     ],
     "prompt_number": 9
    },
    {
     "cell_type": "markdown",
     "metadata": {},
     "source": [
      "<p>The <code>expand</code> command will expand a factored value:</p>"
     ]
    },
    {
     "cell_type": "code",
     "collapsed": false,
     "input": [
      "expand((x+1)*(x+2)*(x+3)*(x+4))"
     ],
     "language": "python",
     "metadata": {},
     "outputs": [
      {
       "latex": [
        "$$x^{4} + 10 x^{3} + 35 x^{2} + 50 x + 24$$"
       ],
       "metadata": {},
       "output_type": "pyout",
       "prompt_number": 10,
       "text": [
        " 4       3       2            \n",
        "x  + 10*x  + 35*x  + 50*x + 24"
       ]
      }
     ],
     "prompt_number": 10
    },
    {
     "cell_type": "markdown",
     "metadata": {},
     "source": [
      "<h2>Questions...</h2>"
     ]
    },
    {
     "cell_type": "markdown",
     "metadata": {},
     "source": [
      "<h2>Solving equations</h2>"
     ]
    },
    {
     "cell_type": "markdown",
     "metadata": {},
     "source": [
      "<p>The basic equations $x^2 + 2x + 1 = 0$ has just one solution, as we can factor: $(x + 1)^2 = 0$ or $x=-1$. <code>SymPy</code> will solve for 0 when an expression is passed to <code>solve</code>:</p>"
     ]
    },
    {
     "cell_type": "code",
     "collapsed": false,
     "input": [
      "solve(x^2 + 2x + 1)"
     ],
     "language": "python",
     "metadata": {},
     "outputs": [
      {
       "latex": [
        "\\begin{bmatrix}-1\\end{bmatrix}"
       ],
       "metadata": {},
       "output_type": "pyout",
       "prompt_number": 11,
       "text": [
        "1-element Array{Sym,1}:\n",
        " -1"
       ]
      }
     ],
     "prompt_number": 11
    },
    {
     "cell_type": "markdown",
     "metadata": {},
     "source": [
      "<p>The multiplicity of the answer is not represented. When there are no solutions, an empty array is returned:</p>"
     ]
    },
    {
     "cell_type": "code",
     "collapsed": false,
     "input": [
      "solve(x^2 + 2x + 2)"
     ],
     "language": "python",
     "metadata": {},
     "outputs": [
      {
       "latex": [
        "\\begin{bmatrix}\\end{bmatrix}"
       ],
       "metadata": {},
       "output_type": "pyout",
       "prompt_number": 12,
       "text": [
        "0-element Array{Sym,1}"
       ]
      }
     ],
     "prompt_number": 12
    },
    {
     "cell_type": "markdown",
     "metadata": {},
     "source": [
      "<p>Wait, the quadratic equation gives two answers, though complex valued in this case, why doesn't <code>solve</code>? This is because we defined <code>x</code> assuming it was Real, and <code>solve</code> will only then search for real solutions. Trying again with a new variable that is not assumed to be real gives a different answer:</p>"
     ]
    },
    {
     "cell_type": "code",
     "collapsed": false,
     "input": [
      "z = symbols(\"z\")\n",
      "solve(z^2 + 2z + 2)"
     ],
     "language": "python",
     "metadata": {},
     "outputs": [
      {
       "latex": [
        "\\begin{bmatrix}-1 - i\\\\-1 + i\\end{bmatrix}"
       ],
       "metadata": {},
       "output_type": "pyout",
       "prompt_number": 13,
       "text": [
        "2-element Array{Sym,1}:\n",
        " -1 - I\n",
        " -1 + I"
       ]
      }
     ],
     "prompt_number": 13
    },
    {
     "cell_type": "markdown",
     "metadata": {},
     "source": [
      "<p>Solve can be used for more complicated problems:</p>"
     ]
    },
    {
     "cell_type": "code",
     "collapsed": false,
     "input": [
      "solve(x^5 - 15x^4  + 85x^3 - 225x^2 +274x -120)"
     ],
     "language": "python",
     "metadata": {},
     "outputs": [
      {
       "latex": [
        "\\begin{bmatrix}1\\\\2\\\\3\\\\4\\\\5\\end{bmatrix}"
       ],
       "metadata": {},
       "output_type": "pyout",
       "prompt_number": 14,
       "text": [
        "5-element Array{Sym,1}:\n",
        " 1\n",
        " 2\n",
        " 3\n",
        " 4\n",
        " 5"
       ]
      }
     ],
     "prompt_number": 14
    },
    {
     "cell_type": "markdown",
     "metadata": {},
     "source": [
      "<p>Solve can also work with more than one variable:</p>"
     ]
    },
    {
     "cell_type": "code",
     "collapsed": false,
     "input": [
      "a = solve(x^2 - y^2 - 1)\n"
     ],
     "language": "python",
     "metadata": {},
     "outputs": [
      {
       "latex": [
        "\\begin{equation*}\\begin{cases}x & \\text{=>} &\\sqrt{y^{2} + 1}\\\\x & \\text{=>} &- \\sqrt{y^{2} + 1}\\\\\\end{cases}\\end{equation*}"
       ],
       "metadata": {},
       "output_type": "pyout",
       "prompt_number": 15,
       "text": [
        "Dict{Any,Any} with 2 entries:\n",
        "  x =>    ________\u2026\n",
        "  x =>     ________\u2026"
       ]
      }
     ],
     "prompt_number": 15
    },
    {
     "cell_type": "markdown",
     "metadata": {},
     "source": [
      "<p>Though, if you wanted to solve for <code>y</code> in terms of <code>x</code>, you would pass it as a second argument:</p>"
     ]
    },
    {
     "cell_type": "code",
     "collapsed": false,
     "input": [
      "solve(x^2 - y^2 -1, y)"
     ],
     "language": "python",
     "metadata": {},
     "outputs": [
      {
       "latex": [
        "\\begin{bmatrix}- \\sqrt{x^{2} - 1}\\\\\\sqrt{x^{2} - 1}\\end{bmatrix}"
       ],
       "metadata": {},
       "output_type": "pyout",
       "prompt_number": 16,
       "text": [
        "2-element Array{Sym,1}:\n",
        "     ________\n",
        "   /  2     \n",
        "-\\/  x  - 1 \n",
        "    ________\n",
        "  /  2     \n",
        "\\/  x  - 1    "
       ]
      }
     ],
     "prompt_number": 16
    },
    {
     "cell_type": "markdown",
     "metadata": {},
     "source": [
      "<p>To solve a system of equations, one places the equations within square brackets:</p>"
     ]
    },
    {
     "cell_type": "code",
     "collapsed": false,
     "input": [
      "solve([2x - 3y - 1, 2y - 3x - 1])"
     ],
     "language": "python",
     "metadata": {},
     "outputs": [
      {
       "latex": [
        "\\begin{equation*}\\begin{cases}x & \\text{=>} &-1\\\\y & \\text{=>} &-1\\\\\\end{cases}\\end{equation*}"
       ],
       "metadata": {},
       "output_type": "pyout",
       "prompt_number": 17,
       "text": [
        "Dict{String,Sym} with 2 entries:\n",
        "  \"x\" => -1\n",
        "  \"y\" => -1"
       ]
      }
     ],
     "prompt_number": 17
    },
    {
     "cell_type": "markdown",
     "metadata": {},
     "source": [
      "<h3>Questions</h3>"
     ]
    },
    {
     "cell_type": "markdown",
     "metadata": {},
     "source": [
      "<h2>Substituting</h2>"
     ]
    },
    {
     "cell_type": "markdown",
     "metadata": {},
     "source": [
      "<p>Typically with pencil and paper, you check your work after finding an answer. This involves replacing your variables with the values found. This substitution can be done within <code>SymPy</code> using the <code>subs</code> or <code>replace</code> function. (The <code>subs</code> name comes from <code>SymPy</code>, <code>replace</code> is an alias, as it mirrors the generic use of <code>replace</code> within <code>Julia</code>.)</p>"
     ]
    },
    {
     "cell_type": "markdown",
     "metadata": {},
     "source": [
      "<p>So, suppose we have solved</p>"
     ]
    },
    {
     "cell_type": "code",
     "collapsed": false,
     "input": [
      "ex = x^3  - 8x^2 + 21*x  - 18\n",
      "solve(ex)"
     ],
     "language": "python",
     "metadata": {},
     "outputs": [
      {
       "latex": [
        "\\begin{bmatrix}2\\\\3\\end{bmatrix}"
       ],
       "metadata": {},
       "output_type": "pyout",
       "prompt_number": 18,
       "text": [
        "2-element Array{Sym,1}:\n",
        " 2\n",
        " 3"
       ]
      }
     ],
     "prompt_number": 18
    },
    {
     "cell_type": "markdown",
     "metadata": {},
     "source": [
      "<p>To substitute back into <code>ex</code> the value <code>x=2</code>, we have</p>"
     ]
    },
    {
     "cell_type": "code",
     "collapsed": false,
     "input": [
      "subs(ex, x, 2)"
     ],
     "language": "python",
     "metadata": {},
     "outputs": [
      {
       "latex": [
        "$$0$$"
       ],
       "metadata": {},
       "output_type": "pyout",
       "prompt_number": 19,
       "text": [
        "0"
       ]
      }
     ],
     "prompt_number": 19
    },
    {
     "cell_type": "markdown",
     "metadata": {},
     "source": [
      "<p>Three arguments are given: the expression, the variable being replaced, and the value to substitute.</p>"
     ]
    },
    {
     "cell_type": "markdown",
     "metadata": {},
     "source": [
      "<p>Of course, you need not substitute in a number, for example, this creates a polynomial in <code>e^x</code>:</p>"
     ]
    },
    {
     "cell_type": "code",
     "collapsed": false,
     "input": [
      "ex1 = subs(ex, x, exp(x))"
     ],
     "language": "python",
     "metadata": {},
     "outputs": [
      {
       "latex": [
        "$$e^{3 x} - 8 e^{2 x} + 21 e^{x} - 18$$"
       ],
       "metadata": {},
       "output_type": "pyout",
       "prompt_number": 20,
       "text": [
        " 3*x      2*x       x     \n",
        "e    - 8*e    + 21*e  - 18"
       ]
      }
     ],
     "prompt_number": 20
    },
    {
     "cell_type": "markdown",
     "metadata": {},
     "source": [
      "<p>Which can also be \"solved\"</p>"
     ]
    },
    {
     "cell_type": "code",
     "collapsed": false,
     "input": [
      "solve(ex1)"
     ],
     "language": "python",
     "metadata": {},
     "outputs": [
      {
       "latex": [
        "\\begin{bmatrix}\\log{\\left (2 \\right )}\\\\\\log{\\left (3 \\right )}\\end{bmatrix}"
       ],
       "metadata": {},
       "output_type": "pyout",
       "prompt_number": 21,
       "text": [
        "2-element Array{Sym,1}:\n",
        " log(2)\n",
        " log(3)"
       ]
      }
     ],
     "prompt_number": 21
    }
   ],
   "metadata": {}
  }
 ]
}