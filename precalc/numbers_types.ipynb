{
 "metadata": {
  "language": "Julia",
  "name": ""
 },
 "nbformat": 3,
 "nbformat_minor": 0,
 "worksheets": [
  {
   "cells": [
    {
     "cell_type": "markdown",
     "metadata": {},
     "source": [
      "<h1>Number systems</h1>"
     ]
    },
    {
     "cell_type": "markdown",
     "metadata": {},
     "source": [
      "<p>In mathematics, there are many different numbers systems that are commonly used. For example by the end of pre-calculus, all of the following have been introduced:</p>"
     ]
    },
    {
     "cell_type": "markdown",
     "metadata": {},
     "source": [
      "<ul><li>The real numbers</li><li>The rational numbers</li><li>The integers</li><li>The complex numbers</li></ul>"
     ]
    },
    {
     "cell_type": "markdown",
     "metadata": {},
     "source": [
      "<p>On top of these, we have special subsets, such as the natural numbers (0, 1, 2, $\\dots$), the even numbers, the odd numbers, positive numbers, non-negative numbers, etc.</p>"
     ]
    },
    {
     "cell_type": "markdown",
     "metadata": {},
     "source": [
      "<p>Mathematically, these numbers systems are naturally nested within each other as integers are rational numbers which are real numbers, which can be viewed as part of the complex numbers.</p>"
     ]
    },
    {
     "cell_type": "markdown",
     "metadata": {},
     "source": [
      "<p>## Closure</p>"
     ]
    },
    {
     "cell_type": "markdown",
     "metadata": {},
     "source": [
      "<p>An important algebraic property of a set of numbers and an operation on them is _closure_. That is, if you take an operation like <code>+</code> and add two numbers in a set, will that result also be in the set? If so for any pair of numbers, then the set is closed with respect to addition. For the even numbers, the answer is yes and for the odd numbers, false (as, the sum of any two odd numbers is even, for example, $3+3=6$). If we start with the _natural numbers_, then it is closed under addition, However, if you think of subtraction as the operation, then the natural numbers are not closed under subtraction, as, for example, $1 - 2 = -1$. The integers are closed under addition and subtraction, as well multiplication. That being said, once we look at division, closure is no longer the case for the integers, as, for example $1/2$ is not an integer. Before talking about the rational numbers, which are closed by division \u2013 as long as we don't try to divide by 0, we note that there are other ideas of division of integers. The _division algorithm_ (XXX ref) allows one to write any division, $a/b$ as $a = mb + r$, where $0 \\leq r < b$. The value $r$ is the _remainder_. Here both $m$ and $r$ are integers.</p>"
     ]
    },
    {
     "cell_type": "markdown",
     "metadata": {},
     "source": [
      "<p>Back to the rational numbers. These are closed under addition, subtraction, multiplication, and division (with the standard caveat about dividing by 0). </p>"
     ]
    },
    {
     "cell_type": "markdown",
     "metadata": {},
     "source": [
      "<p>But not, let's consider powers.  Powers are defined for positive integers in a simple enough manner: $(p/q)^n = p^n/q^n$. We can define $p^0$ to be $1$, except for the special case of $0^0$, which is left undefined mathematically. Negative integer powers are handled with a reciprocal through $p^(-n) = 1/p^n$. For postive, rational powers, like $p^{1/n}$ a reference to these as solutions to $x^n=p$ is used. With that, we can define values of $p^{m/n}$ as $(p^m)^{1/n}$, so defining the value is possible. However, values satisfying $x^2=2$ are not rational, so the operation <code>^</code> is not closed for the rational numbers. For closure under powers, the real numbers are needed provided we restrict to $p \\geq 0$ and complex numbers are needed if we allow $p$ to be negative (e.g., $(-1)^{1/2}$ is the definition of $i$, the imaginary unit.</p>"
     ]
    },
    {
     "cell_type": "markdown",
     "metadata": {},
     "source": [
      "<blockquote><p>So closure of the number systems under the basic operations depends on the system and the operation.  </p></blockquote>"
     ]
    },
    {
     "cell_type": "markdown",
     "metadata": {},
     "source": [
      "<p>As you can see, even with these familiar operations, the desire for simple things, such as the natural numbers, leads one into the need for more complicated systems such as the real numbers or complex numbers.</p>"
     ]
    },
    {
     "cell_type": "markdown",
     "metadata": {},
     "source": [
      "<p>## Julia and number systems</p>"
     ]
    },
    {
     "cell_type": "markdown",
     "metadata": {},
     "source": [
      "<p>With <code>Julia</code>, these distinctions are also made. <code>Julia</code> has types for each of the four basic number systems above. Consider the number 1. It is both an integer, rational, real and complex number. To construct each in <code>Julia</code> we have:</p>"
     ]
    },
    {
     "cell_type": "code",
     "collapsed": false,
     "input": [
      "1, 1.0, 1//1, 1 + 0im"
     ],
     "language": "python",
     "metadata": {},
     "outputs": [
      {
       "metadata": {},
       "metdata": {},
       "output_type": "pyout",
       "text": [
        "(1,1.0,1//1,1 + 0im)"
       ]
      }
     ],
     "prompt_number": 14
    },
    {
     "cell_type": "markdown",
     "metadata": {},
     "source": [
      "<p>The basic number types in <code>Julia</code> are <code>Int</code>, <code>Float64</code>, <code>Rational</code> and <code>Complex</code>. As is seen in the last example, <code>Julia</code>'s parser can distinguish these types through an easy to understand syntax. (That is, integers have no decimal point; floating point numbers do; rationals are constructed using double division; and complex numbers are formed with the imaginary unit, <code>im</code>, is used.)</p>"
     ]
    },
    {
     "cell_type": "markdown",
     "metadata": {},
     "source": [
      "<p>The difference between <code>1</code> and <code>1.0</code> is subtle. When the decimal point is parsed, <code>Julia</code>  knows to store the value as a floating point number.</p>"
     ]
    },
    {
     "cell_type": "markdown",
     "metadata": {},
     "source": [
      "<p>This distinction is important, as the type of number dictates how it will be stored and how precisely. (Julia also has _abstract types_ <code>Integer</code>, <code>Real</code>, and <code>Number</code>, all of the above are also of type <code>Number</code>, but <code>Complex</code> is not of type <code>Real</code>. Abstract types allow code to be written generically for different concrete types.  For example the square root of any <code>Real</code> number is defined generically by the square root of that number converted to floating point, so that <code>sqrt(1)</code>, <code>sqrt(1.0)</code>, and <code>sqrt(1//1)</code> are all computed identically.)</p>"
     ]
    },
    {
     "cell_type": "markdown",
     "metadata": {},
     "source": [
      "<h3>Integers</h3>"
     ]
    },
    {
     "cell_type": "markdown",
     "metadata": {},
     "source": [
      "<p>For example, basic integers in <code>Julia</code> are stored with 64 bits or 32 bits, depending on the underlying computer system. For a 64 bit integer, there are $2^64$ possible values that can be represented, as each \"bit\" can have only 1 of two possible values. Roughly half are negative and half are positive. The largest positive number is $2^63-1$, but you can't make this exactly as written:</p>"
     ]
    },
    {
     "cell_type": "code",
     "collapsed": false,
     "input": [
      "2^63, 2^63 -1"
     ],
     "language": "python",
     "metadata": {},
     "outputs": [
      {
       "metadata": {},
       "output_type": "pyout",
       "prompt_number": 6,
       "text": [
        "(-9223372036854775808,9223372036854775807)"
       ]
      }
     ],
     "prompt_number": 6
    },
    {
     "cell_type": "markdown",
     "metadata": {},
     "source": [
      "<p>You get a negative number! This is because, we can't first create 2^63 then subtract 1. We can make it as follows:</p>"
     ]
    },
    {
     "cell_type": "code",
     "collapsed": false,
     "input": [
      "2^62 + (2^62 - 1)"
     ],
     "language": "python",
     "metadata": {},
     "outputs": [
      {
       "metadata": {},
       "metdata": {},
       "output_type": "pyout",
       "text": [
        "9223372036854775807"
       ]
      }
     ],
     "prompt_number": 22
    },
    {
     "cell_type": "markdown",
     "metadata": {},
     "source": [
      "<p>(Julia provides the <code>typemax</code> function to return the largest value for a type, and you can check this is the largest representable integer by comparing with <code>typemax(Int)</code>.)</p>"
     ]
    },
    {
     "cell_type": "markdown",
     "metadata": {},
     "source": [
      "<p>The fact that negative numbers can occur \u2013 and not the desired number \u2013 is a compromise made by <code>Julia</code>: some operations aren't checked for overflow so that they run faster (much faster). This is something the user must be aware of, especially on a 32-bit system, where the representable integers can only be as big as $4,294,967,295$ \u2013 not even 5 billion.</p>"
     ]
    },
    {
     "cell_type": "markdown",
     "metadata": {},
     "source": [
      "<p>### Floating point numbers Mathematically, integers are not closed under division as the result can lead to rational numbers. Similarly, in <code>Julia</code>, division of two integers will not be an integer, rather it will <em>always</em> be a floating point number \u2013 even dividing by <code>1</code> where an integer answer is possible:</p>"
     ]
    },
    {
     "cell_type": "code",
     "collapsed": false,
     "input": [
      "2/1"
     ],
     "language": "python",
     "metadata": {},
     "outputs": [
      {
       "metadata": {},
       "metdata": {},
       "output_type": "pyout",
       "text": [
        "2.0"
       ]
      }
     ],
     "prompt_number": 26
    },
    {
     "cell_type": "markdown",
     "metadata": {},
     "source": [
      "<p><a href=\"http://en.wikipedia.org/wiki/Floating_point\">Floating point</a> numbers are a computational model for the real numbers. For floating point numbers, 64 bits are used for both 32- and 64-bit systems. This gives a large \u2013 but still finite \u2013 set of numbers that can be represented. However, there are infinitely many real numbers between $0$ and $1$, so there is no chance that all can be represented exactly on the computer. Floating point then is _necessarily_ an approximation for all but a few of the real numbers. Floating point values can be viewed in normalized <a href=\"http://en.wikipedia.org/wiki/Scientific_notation\">scientific notation</a> with $a\\cdot 10^b$ where $a$ is the _significand_ and $b$ is the exponent. The significand $a$ is normalized to satisfy $1 \\leq |a| < 10$, the exponent can be taken to be an integer, possibly negative.</p>"
     ]
    },
    {
     "cell_type": "markdown",
     "metadata": {},
     "source": [
      "<p>As per IEEE Standard 754, the <code>Float64</code> type gives 52 bits to the precision (with an additional implied one), 11 bits to the exponent and the other bit is used to represent the sign.  Positive, finite, floating point numbers have a range approximately between $10^{-308}$ and $10^{308}$, as 308 is about $\\log_10*2^{1023}$. The numbers are not evenly spread out over this range, but rather are much more concentrated closer to $0$.</p>"
     ]
    },
    {
     "cell_type": "markdown",
     "metadata": {},
     "source": [
      "<p>#### Scientific notation</p>"
     ]
    },
    {
     "cell_type": "markdown",
     "metadata": {},
     "source": [
      "<p>Floating point numbers may print in a familiar manner:</p>"
     ]
    },
    {
     "cell_type": "code",
     "collapsed": false,
     "input": [
      "1.23"
     ],
     "language": "python",
     "metadata": {},
     "outputs": [
      {
       "metadata": {},
       "metdata": {},
       "output_type": "pyout",
       "text": [
        "1.23"
       ]
      }
     ],
     "prompt_number": 31
    },
    {
     "cell_type": "markdown",
     "metadata": {},
     "source": [
      "<p>or may be represented in scientific notation:</p>"
     ]
    },
    {
     "cell_type": "code",
     "collapsed": false,
     "input": [
      "6.23 * 10.0^23"
     ],
     "language": "python",
     "metadata": {},
     "outputs": [
      {
       "metadata": {},
       "metdata": {},
       "output_type": "pyout",
       "text": [
        "6.23e23"
       ]
      }
     ],
     "prompt_number": 33
    },
    {
     "cell_type": "markdown",
     "metadata": {},
     "source": [
      "<p>The special coding <code>aeb</code> (or if the exponent is negative <code>ae-b</code>) is used to represent the number $a \\cdot 10^b$. This notation can be used directly to specify a floating point value:</p>"
     ]
    },
    {
     "cell_type": "code",
     "collapsed": false,
     "input": [
      "6.23e23"
     ],
     "language": "python",
     "metadata": {},
     "outputs": [
      {
       "metadata": {},
       "metdata": {},
       "output_type": "pyout",
       "text": [
        "6.23e23"
       ]
      }
     ],
     "prompt_number": 35
    },
    {
     "cell_type": "markdown",
     "metadata": {},
     "source": [
      "<p>The first way of representing this number required using <code>10.0</code> and not <code>10</code> as the integer power is only valid up to <code>10^18</code>. Using scientific notation avoids having to remember such limitations.</p>"
     ]
    },
    {
     "cell_type": "markdown",
     "metadata": {},
     "source": [
      "<h4>Special values: Inf, -Inf, NaN</h4>"
     ]
    },
    {
     "cell_type": "markdown",
     "metadata": {},
     "source": [
      "<p>The coding of floating point numbers also allows for the special values of <code>Inf</code>, <code>-Inf</code> to represent positive and negative infinity. As well, a special value <code>NaN</code> (\"not a number\") is used to represent a value that arises when an operation is not closed (e.g., $0.0/0.0$ yields <code>NaN</code>).</p>"
     ]
    },
    {
     "cell_type": "markdown",
     "metadata": {},
     "source": [
      "<p>Floating point numbers then are an abstraction for the real numbers. For the most part this abstraction works in the background, though there are cases where one needs to have it in mind. Here are a few:</p>"
     ]
    },
    {
     "cell_type": "markdown",
     "metadata": {},
     "source": [
      "<ul><li>For real (and rational) numbers, between any two numbers $a < b$, there is another real number in between. This is not so for floating point numbers which have a finite precision. (Julia has some functions for working with this distinction.)</li></ul>"
     ]
    },
    {
     "cell_type": "markdown",
     "metadata": {},
     "source": [
      "<ul><li>Floating point numbers are approximations for most values, even simple ones like $1/3$. This leads to oddities such as this value not being $0$:</li></ul>"
     ]
    },
    {
     "cell_type": "code",
     "collapsed": false,
     "input": [
      "sqrt(2)*sqrt(2) - 2"
     ],
     "language": "python",
     "metadata": {},
     "outputs": [
      {
       "metadata": {},
       "metdata": {},
       "output_type": "pyout",
       "text": [
        "4.440892098500626e-16"
       ]
      }
     ],
     "prompt_number": 42
    },
    {
     "cell_type": "markdown",
     "metadata": {},
     "source": [
      "<p>It is no surprise that an irrational number like $\\sqrt{2}$ can't be represented <strong>exactly</strong> by floating point, but it is perhaps surprising that simple numbers can not be, so $1/3$, $1/5$, \\dots are approximated. Here is a surprising-at-first consequence</p>"
     ]
    },
    {
     "cell_type": "code",
     "collapsed": false,
     "input": [
      "1/10 + 2/10 == 3/10"
     ],
     "language": "python",
     "metadata": {},
     "outputs": [
      {
       "metadata": {},
       "metdata": {},
       "output_type": "pyout",
       "text": [
        "false"
       ]
      }
     ],
     "prompt_number": 44
    },
    {
     "cell_type": "markdown",
     "metadata": {},
     "source": [
      "<p>The differences are usually very small and are generally attributed to rounding error. The user needs to be mindful when testing for equality, as is done above with the <code>==</code> operator.</p>"
     ]
    },
    {
     "cell_type": "markdown",
     "metadata": {},
     "source": [
      "<ul><li>Floating point addition is not necessarily associative ($a + (b+c) = (a+b) + c)$. For example:</li></ul>"
     ]
    },
    {
     "cell_type": "code",
     "collapsed": false,
     "input": [
      "1/10 + (2/10 + 3/10) == (1/10 + 2/10) + 3/10"
     ],
     "language": "python",
     "metadata": {},
     "outputs": [
      {
       "metadata": {},
       "metdata": {},
       "output_type": "pyout",
       "text": [
        "false"
       ]
      }
     ],
     "prompt_number": 47
    },
    {
     "cell_type": "markdown",
     "metadata": {},
     "source": [
      "<ul><li>For real numbers subtraction of similar sized numbers is not exceptional, for example $1 - \\cos(x)$ is positive if $0 < x < pi/4$, say. but this will not be the case for floating point values. If $x$ is close enough to $0$, then $\\cos(x)$ and $1$ will be so close, that they will be represented by the same floating point value.</li></ul>"
     ]
    },
    {
     "cell_type": "markdown",
     "metadata": {},
     "source": [
      "<h3>Questions</h3>"
     ]
    },
    {
     "cell_type": "markdown",
     "metadata": {},
     "source": [
      "<ul><li>Nan</li><li>Inf</li><li>-Inf</li><li>0.0 and -0.0 (difference is crucial with complex</li><li>0^0,</li><li>nextfloat, prevfloat, concentration near 0</li><li>eps</li><li></li></ul>"
     ]
    },
    {
     "cell_type": "markdown",
     "metadata": {},
     "source": [
      "<h2>Rational numbers</h2>"
     ]
    },
    {
     "cell_type": "markdown",
     "metadata": {},
     "source": [
      "<p>Rational numbers in <code>Julia</code> are stored as two numbers <code>den</code> and <code>num</code>, each some type of integer. They can exactly represent a rational number. Unlike with floating point values, this leads to the familiar things being true:</p>"
     ]
    },
    {
     "cell_type": "code",
     "collapsed": false,
     "input": [
      "1//10 + 2//10 == 3//10"
     ],
     "language": "python",
     "metadata": {},
     "outputs": [
      {
       "metadata": {},
       "metdata": {},
       "output_type": "pyout",
       "text": [
        "true"
       ]
      }
     ],
     "prompt_number": 53
    },
    {
     "cell_type": "markdown",
     "metadata": {},
     "source": [
      "<p>And associativity:</p>"
     ]
    },
    {
     "cell_type": "code",
     "collapsed": false,
     "input": [
      "(1//10 + 2//10) + 3//10 == 1//10 + (2//10 + 3//10)"
     ],
     "language": "python",
     "metadata": {},
     "outputs": [
      {
       "metadata": {},
       "metdata": {},
       "output_type": "pyout",
       "text": [
        "true"
       ]
      }
     ],
     "prompt_number": 55
    },
    {
     "cell_type": "markdown",
     "metadata": {},
     "source": [
      "<p>Rational numbers are closed under the operations <code>+</code>, <code>-</code>, <code>*</code>, and <code>/</code> and as well <code>^</code> with integer powers. For example,</p>"
     ]
    },
    {
     "cell_type": "code",
     "collapsed": false,
     "input": [
      "1//2 + 1//3, 1//2 * 1//3, 1//2 / 1//3, (1//2)^4"
     ],
     "language": "python",
     "metadata": {},
     "outputs": [
      {
       "metadata": {},
       "metdata": {},
       "output_type": "pyout",
       "text": [
        "(5//6,1//6,3//2,1//16)"
       ]
      }
     ],
     "prompt_number": 57
    },
    {
     "cell_type": "markdown",
     "metadata": {},
     "source": [
      "<p>Non-integer powers are converted to floating point:</p>"
     ]
    },
    {
     "cell_type": "code",
     "collapsed": false,
     "input": [
      "(1//2)^(1//2)   # the first parentheses are necessary as `^` will be evaluated before `//`."
     ],
     "language": "python",
     "metadata": {},
     "outputs": [
      {
       "metadata": {},
       "metdata": {},
       "output_type": "pyout",
       "text": [
        "0.7071067811865476"
       ]
      }
     ],
     "prompt_number": 59
    },
    {
     "cell_type": "markdown",
     "metadata": {},
     "source": [
      "<p>However, this exactness comes at a cost in terms of speed of operations and limitation of the range of numbers that can be represented. For example, for 64-bit integers, the smallest positive value would be limited to be about $10^{-19}$ and not $10^{-308}$, as it is for floating point.</p>"
     ]
    },
    {
     "cell_type": "markdown",
     "metadata": {},
     "source": [
      "<h3>Different types of real numbers</h3>"
     ]
    },
    {
     "cell_type": "markdown",
     "metadata": {},
     "source": [
      "<p>Attribute    | Integer | Rational | Floating point construction | 1       | 1//1     | 1.0 exact        | true  | true  | not usually wide range   | false | false | true has infinity | false | false | true has $-0$     | false | false | true fast         | true  | false | true closed under      |<code>+</code>, <code>-</code>, <code>*</code> | <code>+</code>, <code>-</code>, <code>*</code>, <code>/</code> (non zero denominator), <code>^</code> (integer power) |  <code>+</code>, <code>-</code>, <code>*</code>, <code>/</code> (possibly <code>NaN</code>), <code>^</code> (non-negative base)</p>"
     ]
    },
    {
     "cell_type": "markdown",
     "metadata": {},
     "source": [
      "<p>## Complex numbers</p>"
     ]
    },
    {
     "cell_type": "markdown",
     "metadata": {},
     "source": [
      "<p>Complex numbers in <code>Julia</code> are stored as two numbers, <code>re</code> and <code>im</code>, each some type of <code>Real</code> number. The special constant <code>im</code> is used to represent $i=\\sqrt{-1}$.  This makes the construction of complex numbers fairly standard:</p>"
     ]
    },
    {
     "cell_type": "code",
     "collapsed": false,
     "input": [
      "1 + 2im, 3 + 4.0im"
     ],
     "language": "python",
     "metadata": {},
     "outputs": [
      {
       "metadata": {},
       "metdata": {},
       "output_type": "pyout",
       "text": [
        "(1 + 2im,3.0 + 4.0im)"
       ]
      }
     ],
     "prompt_number": 65
    },
    {
     "cell_type": "markdown",
     "metadata": {},
     "source": [
      "<p>(These two aren't exactly the same, the <code>3</code> is promoted from an integer to a float to match the <code>4.0</code>.)</p>"
     ]
    },
    {
     "cell_type": "markdown",
     "metadata": {},
     "source": [
      "<p>Mathematically, complex numbers are needed so that certain equations can be satisfied. For example $x^2 = -2$ has solutions $-\\sqrt{2}i$ and $\\sqrt{2}i$ over the complex numbers. Finding this in <code>Julia</code> requires some attention, as we have both <code>sqrt(-2)</code> and <code>sqrt(-2.0)</code> being a <code>DomainError</code>, as the <code>sqrt</code> function expects non-negative real arguments. However, this does work</p>"
     ]
    },
    {
     "cell_type": "code",
     "collapsed": false,
     "input": [
      "sqrt(-2 + 0im)"
     ],
     "language": "python",
     "metadata": {},
     "outputs": [
      {
       "metadata": {},
       "metdata": {},
       "output_type": "pyout",
       "text": [
        "0.0 + 1.4142135623730951im"
       ]
      }
     ],
     "prompt_number": 68
    },
    {
     "cell_type": "markdown",
     "metadata": {},
     "source": [
      "<p>As for complex arguments, the <code>sqrt</code> function will return complex values (even if a real number is the answer).</p>"
     ]
    },
    {
     "cell_type": "markdown",
     "metadata": {},
     "source": [
      "<p>This mean, if you wanted to perform the quadratic equation for any real inputs, your answer might look like this:</p>"
     ]
    },
    {
     "cell_type": "code",
     "collapsed": false,
     "input": [
      "a,b,c = 1,2,3  ## x^2 + 2x + 3\n",
      "discr = b^2 - 4a*c\n",
      "(-b + sqrt(discr + 0im))/(2a), (-b - sqrt(discr + 0im))/(2a)"
     ],
     "language": "python",
     "metadata": {},
     "outputs": [
      {
       "metadata": {},
       "metdata": {},
       "output_type": "pyout",
       "text": [
        "(-1.0 + 1.4142135623730951im,-1.0 - 1.4142135623730951im)"
       ]
      }
     ],
     "prompt_number": 71
    },
    {
     "cell_type": "markdown",
     "metadata": {},
     "source": [
      "<h3>Questions</h3>"
     ]
    },
    {
     "cell_type": "markdown",
     "metadata": {},
     "source": [
      "<ul><li>`real` and `imag`</li><li>`conj`</li><li>can use Rational: reciprocal of `1//2 + 1//3im`</li><li>complex inf</li><li>complex</li></ul>"
     ]
    },
    {
     "cell_type": "markdown",
     "metadata": {},
     "source": [
      "<ul><li>Real, Integer abstractions</li><li>unsigned integers</li><li>type stability</li><li></li></ul>"
     ]
    }
   ],
   "metadata": {}
  }
 ]
}